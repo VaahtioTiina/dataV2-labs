{
 "cells": [
  {
   "cell_type": "markdown",
   "metadata": {},
   "source": [
    "# Mini-Project 1 The Hangman game"
   ]
  },
  {
   "cell_type": "markdown",
   "metadata": {},
   "source": [
    "### Introduction\n",
    "\n",
    "In this project I will learn how-to and build a hangman game. \n",
    "\n",
    "Sources: The word list in generated from https://www.hangmanwords.com/words \n",
    "\n",
    "Graphics sourced from https://code.sololearn.com/cooDpbbEc1VK/#py\n",
    "         "
   ]
  },
  {
   "cell_type": "markdown",
   "metadata": {},
   "source": [
    "### Game Preparation"
   ]
  },
  {
   "cell_type": "code",
   "execution_count": 1,
   "metadata": {},
   "outputs": [],
   "source": [
    "# Import  libraries \n",
    "\n",
    "import random\n",
    "import os\n",
    "import pandas as pd\n",
    "import re\n"
   ]
  },
  {
   "cell_type": "code",
   "execution_count": 2,
   "metadata": {},
   "outputs": [],
   "source": [
    "# Get the wordlist for the game \n",
    "\n",
    "word_list = pd.read_csv(r\"c:\\Users\\tiina\\mini-project-1\\data\\wordlist_hangman.csv\") \n",
    "word_list = word_list['word'].tolist()\n"
   ]
  },
  {
   "cell_type": "code",
   "execution_count": 3,
   "metadata": {},
   "outputs": [],
   "source": [
    "# define some basic variables \n",
    "max_mis = 7\n",
    "guessed_letters = [] \n",
    "missed_letters = [] \n",
    "max_turn = 12 \n",
    "turns = 0 \n",
    "missed = 0"
   ]
  },
  {
   "cell_type": "code",
   "execution_count": 4,
   "metadata": {},
   "outputs": [],
   "source": [
    "def winning_word():\n",
    "    random_word = random.choice(word_list)\n",
    "    return random_word\n"
   ]
  },
  {
   "cell_type": "code",
   "execution_count": 5,
   "metadata": {},
   "outputs": [],
   "source": [
    "def start_display(x):\n",
    "    ''' \n",
    "    This function selects a random word from the wordlist and then tranforms into a masked version to be used for hangman game\n",
    "    '''\n",
    "    word_length = len(x) \n",
    "    display_element = \"__ \" * word_length \n",
    "    return display_element\n",
    "    "
   ]
  },
  {
   "cell_type": "code",
   "execution_count": 6,
   "metadata": {},
   "outputs": [],
   "source": [
    "def turn(x):\n",
    "    ''' This function helps to initiate the players turn to guess the letter in hangman. The function takes 1 argument which is the winning word. \n",
    "    '''\n",
    "    print(\"To guess select one letter from A-Z and press enter\")\n",
    "    guessed_letter = input().upper()\n",
    "    if re.match('[A-Z]',guessed_letter) == None:\n",
    "        print(\"\\nPlease select a letter again. It must be one letter from A-Z\")\n",
    "        guessed_letter = input().upper()\n",
    "    elif len(guessed_letter) > 1:\n",
    "        print(\"\\nYour input is too long. Please select again. It must be ONE letter from A-Z\")\n",
    "        guessed_letter = input().upper()\n",
    "    if (guessed_letter in guessed_letters) or (guessed_letter in missed_letters):\n",
    "        print(\"\\nYou already guessed this letter, please choose another\")\n",
    "        print(\"\\nYou have already guessed the following letters:\", missed_letters, guessed_letters)\n",
    "        guessed_letter = input().upper()\n",
    "    else:\n",
    "        print(f\"Your selection is {guessed_letter}\")\n",
    "\n",
    "        if guessed_letter in x:\n",
    "            guessed_letters.append(guessed_letter)\n",
    "            print(\"\\n Whipii! Your guess was correct!\")\n",
    "        elif guessed_letter not in x:\n",
    "            missed_letters.append(guessed_letter)\n",
    "            print(\"\\nYour guess was wrong :(\")\n",
    "            global missed\n",
    "            missed += 1\n",
    "        global turns\n",
    "        turns += 1\n",
    "  \n",
    "    \n"
   ]
  },
  {
   "cell_type": "code",
   "execution_count": 7,
   "metadata": {},
   "outputs": [],
   "source": [
    "\n",
    "def word_display(x):\n",
    "    display_element = \"\"\n",
    "    global guessed_letters\n",
    "    for c in x:\n",
    "        if c in guessed_letters:\n",
    "            display_element += c\n",
    "        else: \n",
    "            display_element += \"__ \" \n",
    "    return display_element\n",
    "     "
   ]
  },
  {
   "cell_type": "code",
   "execution_count": 8,
   "metadata": {},
   "outputs": [],
   "source": [
    "def hangman_display(x): \n",
    "    global missed_letters\n",
    "    graphics=['''\n",
    "    \n",
    "     ''','''\n",
    "                 _____\n",
    "                |     |\n",
    "                      |\n",
    "                      |\n",
    "                      |\n",
    "                     _|_''', '''\n",
    "                 _____\n",
    "                |     |\n",
    "                O     |\n",
    "                      |\n",
    "                      |\n",
    "                     _|_''', '''\n",
    "                 _____\n",
    "                |     |\n",
    "                O     |\n",
    "                |     |\n",
    "                |     |\n",
    "                     _|_''', '''\n",
    "                 _____\n",
    "                |     |\n",
    "                O     |\n",
    "               /|     |\n",
    "                |     |\n",
    "                     _|_''', '''\n",
    "                 _____\n",
    "                |     |\n",
    "                O     |\n",
    "               /|\\    |\n",
    "                |     |\n",
    "                     _|_''', ''' \n",
    "                 _____\n",
    "                |     |\n",
    "                O     |\n",
    "               /|\\    |\n",
    "                |     |\n",
    "               /     _|_''', '''\n",
    "                 _____\n",
    "                |     |\n",
    "        LOST    O     | LOST\n",
    "               /|\\    |\n",
    "                |     |\n",
    "               / \\   _|_'''\n",
    "             ] \n",
    "    winner = ['''     \n",
    "    \n",
    "    ☆ ☆ ☆ ☆ ☆ ☆ ☆ ☆ ☆ ☆ ☆ ☆\n",
    "    ☆ ☆ ☆ ☆ ☆ ☆ ☆ ☆ ☆ ☆ ☆ ☆    \n",
    "                \n",
    "                \\O/      \n",
    "      YOU WON!   |   YOU WON!       \n",
    "                 |    \n",
    "                / \\ \n",
    "\n",
    "    ☆ ☆ ☆ ☆ ☆ ☆ ☆ ☆ ☆ ☆ ☆ ☆\n",
    "    ☆ ☆ ☆ ☆ ☆ ☆ ☆ ☆ ☆ ☆ ☆ ☆\n",
    "       ''']\n",
    "    \n",
    "    for c in x:\n",
    "        if  word_display(x) == x:\n",
    "            graphic_element = winner[0]\n",
    "        else:\n",
    "            graphic_element = graphics[len(missed_letters)]\n",
    "    return graphic_element"
   ]
  },
  {
   "cell_type": "markdown",
   "metadata": {},
   "source": [
    "Graphics sourced from https://code.sololearn.com/cooDpbbEc1VK/#py"
   ]
  },
  {
   "cell_type": "markdown",
   "metadata": {},
   "source": [
    "### The Hangman Game"
   ]
  },
  {
   "cell_type": "code",
   "execution_count": 10,
   "metadata": {},
   "outputs": [
    {
     "name": "stdout",
     "output_type": "stream",
     "text": [
      "Welcome to play Hangman. Do you want to play Y(yes) or N(no)?\n",
      "N\n",
      "Sorry to hear that you dont want to play. See you later\n"
     ]
    }
   ],
   "source": [
    "max_mis = 7\n",
    "guessed_letters = [] \n",
    "missed_letters = [] \n",
    "max_turn = 12 \n",
    "turns = 0 \n",
    "missed = 0\n",
    "\n",
    "print(\"Welcome to play Hangman. Do you want to play Y(yes) or N(no)?\")\n",
    "request = input().upper()\n",
    "\n",
    "if request == 'Y':\n",
    "    winning_word = random.choice(word_list).upper()\n",
    "    print(start_display(winning_word))\n",
    "    \n",
    "        \n",
    "  \n",
    "    while (turns < max_turn) & (winning_word != word_display(winning_word)) & (len(missed_letters) < max_mis):\n",
    "        turn(winning_word)\n",
    "        print(\"\")\n",
    "        print(word_display(winning_word)) \n",
    "        print(\"\")\n",
    "        print(hangman_display(winning_word)) \n",
    "        \n",
    "    print(\"\\nThe winning word was:\", winning_word) \n",
    "    print(f\"\\nYou found {len(guessed_letters)} correct letters. You guessed in correctly {len(missed_letters)} times.\")\n",
    "    print(\"\\nThanks for playing the game. See you next time!\")\n",
    "        \n",
    "        \n",
    "else: \n",
    "    print(\"Sorry to hear that you dont want to play. See you later\")\n",
    "        \n",
    "\n",
    "    \n"
   ]
  },
  {
   "cell_type": "code",
   "execution_count": null,
   "metadata": {},
   "outputs": [],
   "source": []
  }
 ],
 "metadata": {
  "kernelspec": {
   "display_name": "Python 3",
   "language": "python",
   "name": "python3"
  },
  "language_info": {
   "codemirror_mode": {
    "name": "ipython",
    "version": 3
   },
   "file_extension": ".py",
   "mimetype": "text/x-python",
   "name": "python",
   "nbconvert_exporter": "python",
   "pygments_lexer": "ipython3",
   "version": "3.7.6"
  }
 },
 "nbformat": 4,
 "nbformat_minor": 2
}
