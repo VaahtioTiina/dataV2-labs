{
 "cells": [
  {
   "cell_type": "markdown",
   "metadata": {},
   "source": [
    "# Introduction to NumPy\n",
    "\n",
    "\n",
    "#### 1. Import NumPy under the name np."
   ]
  },
  {
   "cell_type": "code",
   "execution_count": 1,
   "metadata": {},
   "outputs": [],
   "source": [
    "# your code here \n",
    "import numpy as np"
   ]
  },
  {
   "cell_type": "markdown",
   "metadata": {},
   "source": [
    "#### 2. Print your NumPy version."
   ]
  },
  {
   "cell_type": "code",
   "execution_count": 2,
   "metadata": {},
   "outputs": [
    {
     "name": "stdout",
     "output_type": "stream",
     "text": [
      "My NumPy version is: 1.18.1\n"
     ]
    }
   ],
   "source": [
    "# your code here \n",
    "print(\"My NumPy version is:\", np.__version__)"
   ]
  },
  {
   "cell_type": "markdown",
   "metadata": {},
   "source": [
    "#### 3. Generate a 2x3x5 3-dimensional array with random values. Assign the array to variable *a*.\n",
    "**Challenge**: there are at least three easy ways that use numpy to generate random arrays. How many ways can you find?"
   ]
  },
  {
   "cell_type": "code",
   "execution_count": 3,
   "metadata": {},
   "outputs": [
    {
     "name": "stdout",
     "output_type": "stream",
     "text": [
      "[[[0.88840433 0.17628769 0.40118744 0.79162764 0.72353572]\n",
      "  [0.80271526 0.24028666 0.53055155 0.33249053 0.52212158]\n",
      "  [0.21610683 0.70891045 0.52872569 0.27909928 0.82228418]]\n",
      "\n",
      " [[0.86309376 0.12436422 0.67909088 0.72638045 0.94106189]\n",
      "  [0.5387644  0.38108042 0.90419933 0.42267706 0.82348924]\n",
      "  [0.96514343 0.33947611 0.74574735 0.76560241 0.10928434]]]\n"
     ]
    }
   ],
   "source": [
    "# Method 1 \n",
    "a = np.random.rand(2,3,5)\n",
    "print(a)"
   ]
  },
  {
   "cell_type": "code",
   "execution_count": 4,
   "metadata": {},
   "outputs": [
    {
     "name": "stdout",
     "output_type": "stream",
     "text": [
      "[[[0.96793412 0.26413172 0.1943088  0.16763267 0.60356076]\n",
      "  [0.08969451 0.05116977 0.7258872  0.85964257 0.33868138]\n",
      "  [0.3375341  0.18643979 0.63240814 0.42945919 0.00748704]]\n",
      "\n",
      " [[0.73779873 0.66768581 0.09276786 0.88451983 0.55894125]\n",
      "  [0.34538186 0.49932735 0.18704563 0.03579313 0.3871818 ]\n",
      "  [0.42401551 0.21392011 0.80348538 0.13053278 0.72670729]]]\n"
     ]
    }
   ],
   "source": [
    "# Method 2\n",
    "a = np.random.random([2,3,5]) \n",
    "print(a)"
   ]
  },
  {
   "cell_type": "code",
   "execution_count": 5,
   "metadata": {},
   "outputs": [
    {
     "name": "stdout",
     "output_type": "stream",
     "text": [
      "[[[ 1.62727878 -0.19733718 -0.21989824  0.2148454  -1.98269217]\n",
      "  [ 0.91909479 -0.34093293  0.79942796  1.31793978  0.39181274]\n",
      "  [ 0.84281467 -0.71900272 -1.04387015  0.47552048  0.60084528]]\n",
      "\n",
      " [[ 1.90846514 -0.38187044 -0.65280643  1.52500038 -0.36189404]\n",
      "  [-0.36271082  0.67864908  0.94419676  0.39634571  0.19013236]\n",
      "  [ 0.03433225  1.25112323 -1.29032194  0.18389364 -0.22307685]]]\n"
     ]
    }
   ],
   "source": [
    "# Method 3 \n",
    "a = np.random.randn(2,3,5) \n",
    "print(a)"
   ]
  },
  {
   "cell_type": "markdown",
   "metadata": {},
   "source": [
    "#### 4. Print *a*.\n"
   ]
  },
  {
   "cell_type": "code",
   "execution_count": 6,
   "metadata": {},
   "outputs": [
    {
     "name": "stdout",
     "output_type": "stream",
     "text": [
      "[[[ 1.62727878 -0.19733718 -0.21989824  0.2148454  -1.98269217]\n",
      "  [ 0.91909479 -0.34093293  0.79942796  1.31793978  0.39181274]\n",
      "  [ 0.84281467 -0.71900272 -1.04387015  0.47552048  0.60084528]]\n",
      "\n",
      " [[ 1.90846514 -0.38187044 -0.65280643  1.52500038 -0.36189404]\n",
      "  [-0.36271082  0.67864908  0.94419676  0.39634571  0.19013236]\n",
      "  [ 0.03433225  1.25112323 -1.29032194  0.18389364 -0.22307685]]]\n"
     ]
    }
   ],
   "source": [
    "# your code here\n",
    "print(a)"
   ]
  },
  {
   "cell_type": "markdown",
   "metadata": {},
   "source": [
    "#### 5. Create a 5x2x3 3-dimensional array with all values equaling 1. Assign the array to variable *b*."
   ]
  },
  {
   "cell_type": "code",
   "execution_count": 7,
   "metadata": {},
   "outputs": [
    {
     "data": {
      "text/plain": [
       "numpy.ndarray"
      ]
     },
     "execution_count": 7,
     "metadata": {},
     "output_type": "execute_result"
    }
   ],
   "source": [
    "# your code here \n",
    "b = np.ones((5,2,3))\n",
    "type(b)"
   ]
  },
  {
   "cell_type": "markdown",
   "metadata": {},
   "source": [
    "#### 6. Print *b*.\n"
   ]
  },
  {
   "cell_type": "code",
   "execution_count": 8,
   "metadata": {},
   "outputs": [
    {
     "name": "stdout",
     "output_type": "stream",
     "text": [
      "[[[1. 1. 1.]\n",
      "  [1. 1. 1.]]\n",
      "\n",
      " [[1. 1. 1.]\n",
      "  [1. 1. 1.]]\n",
      "\n",
      " [[1. 1. 1.]\n",
      "  [1. 1. 1.]]\n",
      "\n",
      " [[1. 1. 1.]\n",
      "  [1. 1. 1.]]\n",
      "\n",
      " [[1. 1. 1.]\n",
      "  [1. 1. 1.]]]\n"
     ]
    }
   ],
   "source": [
    "# your code here \n",
    "print(b)\n"
   ]
  },
  {
   "cell_type": "markdown",
   "metadata": {},
   "source": [
    "#### 7. Do *a* and *b* have the same size? How do you prove that in Python code?"
   ]
  },
  {
   "cell_type": "code",
   "execution_count": 9,
   "metadata": {},
   "outputs": [
    {
     "name": "stdout",
     "output_type": "stream",
     "text": [
      "a and be are not the same size\n"
     ]
    }
   ],
   "source": [
    "# your code here \n",
    "\n",
    "\n",
    "if a.shape == b.shape:\n",
    "    print(\"a and b are the same size\") \n",
    "else: \n",
    "    print(\"a and be are not the same size\")"
   ]
  },
  {
   "cell_type": "markdown",
   "metadata": {},
   "source": [
    "#### 8. Are you able to add *a* and *b*? Why or why not?\n"
   ]
  },
  {
   "cell_type": "code",
   "execution_count": 10,
   "metadata": {},
   "outputs": [
    {
     "name": "stdout",
     "output_type": "stream",
     "text": [
      "We can add a and be together only if their size is the same. Hence since a.shape != b.shape we are not able to add them together.\n"
     ]
    }
   ],
   "source": [
    "# your answer here \n",
    "# syntax to add  would be np.add(a, b) \n",
    "print(\"We can add a and be together only if their size is the same. Hence since a.shape != b.shape we are not able to add them together.\")"
   ]
  },
  {
   "cell_type": "markdown",
   "metadata": {},
   "source": [
    "#### 9. Transpose *b* so that it has the same structure of *a* (i.e. become a 2x3x5 array). Assign the transposed array to variable *c*."
   ]
  },
  {
   "cell_type": "code",
   "execution_count": 11,
   "metadata": {},
   "outputs": [
    {
     "name": "stdout",
     "output_type": "stream",
     "text": [
      "(2, 3, 5)\n"
     ]
    }
   ],
   "source": [
    "# your code here \n",
    "c = np.transpose(b, (1,2,0)) \n",
    "print(c.shape)"
   ]
  },
  {
   "cell_type": "markdown",
   "metadata": {},
   "source": [
    "#### 10. Try to add *a* and *c*. Now it should work. Assign the sum to variable *d*. But why does it work now?"
   ]
  },
  {
   "cell_type": "code",
   "execution_count": 12,
   "metadata": {},
   "outputs": [],
   "source": [
    "# your code/answer here \n",
    "d = np.add(a,c)"
   ]
  },
  {
   "cell_type": "markdown",
   "metadata": {},
   "source": [
    "#### 11. Print *a* and *d*. Notice the difference and relation of the two array in terms of the values? Explain."
   ]
  },
  {
   "cell_type": "code",
   "execution_count": 13,
   "metadata": {},
   "outputs": [
    {
     "name": "stdout",
     "output_type": "stream",
     "text": [
      "This is a: [[[ 1.62727878 -0.19733718 -0.21989824  0.2148454  -1.98269217]\n",
      "  [ 0.91909479 -0.34093293  0.79942796  1.31793978  0.39181274]\n",
      "  [ 0.84281467 -0.71900272 -1.04387015  0.47552048  0.60084528]]\n",
      "\n",
      " [[ 1.90846514 -0.38187044 -0.65280643  1.52500038 -0.36189404]\n",
      "  [-0.36271082  0.67864908  0.94419676  0.39634571  0.19013236]\n",
      "  [ 0.03433225  1.25112323 -1.29032194  0.18389364 -0.22307685]]]\n",
      "\n",
      "This is d: [[[ 2.62727878  0.80266282  0.78010176  1.2148454  -0.98269217]\n",
      "  [ 1.91909479  0.65906707  1.79942796  2.31793978  1.39181274]\n",
      "  [ 1.84281467  0.28099728 -0.04387015  1.47552048  1.60084528]]\n",
      "\n",
      " [[ 2.90846514  0.61812956  0.34719357  2.52500038  0.63810596]\n",
      "  [ 0.63728918  1.67864908  1.94419676  1.39634571  1.19013236]\n",
      "  [ 1.03433225  2.25112323 -0.29032194  1.18389364  0.77692315]]]\n",
      "Each of the elements have been added the value pair from array c, which is always 1\n"
     ]
    }
   ],
   "source": [
    "# your code/answer here \n",
    "print(\"This is a:\", a)\n",
    "print(\"\\nThis is d:\", d) \n",
    "print(\"Each of the elements have been added the value pair from array c, which is always 1\")"
   ]
  },
  {
   "cell_type": "markdown",
   "metadata": {},
   "source": [
    "#### 12. Multiply *a* and *c*. Assign the result to *e*."
   ]
  },
  {
   "cell_type": "code",
   "execution_count": 14,
   "metadata": {},
   "outputs": [],
   "source": [
    "# your code here\n",
    "e = np.multiply(a,c)"
   ]
  },
  {
   "cell_type": "markdown",
   "metadata": {},
   "source": [
    "#### 13. Does *e* equal to *a*? Why or why not?\n"
   ]
  },
  {
   "cell_type": "code",
   "execution_count": 15,
   "metadata": {},
   "outputs": [
    {
     "name": "stdout",
     "output_type": "stream",
     "text": [
      "[[[ True  True  True  True  True]\n",
      "  [ True  True  True  True  True]\n",
      "  [ True  True  True  True  True]]\n",
      "\n",
      " [[ True  True  True  True  True]\n",
      "  [ True  True  True  True  True]\n",
      "  [ True  True  True  True  True]]]\n",
      "e equals to a because anynumber multiplied by c is the number itself\n"
     ]
    }
   ],
   "source": [
    "# your code/answer here \n",
    "print(e == a )\n",
    "\n",
    "print(\"e equals to a because anynumber multiplied by c is the number itself\")"
   ]
  },
  {
   "cell_type": "markdown",
   "metadata": {},
   "source": [
    "#### 14. Identify the max, min, and mean values in *d*. Assign those values to variables *d_max*, *d_min* and *d_mean*."
   ]
  },
  {
   "cell_type": "code",
   "execution_count": 16,
   "metadata": {},
   "outputs": [],
   "source": [
    "# your code here \n",
    "\n",
    "d_max = np.max(d) \n",
    "d_min = np.min(d)\n",
    "d_mean = np.mean(d)"
   ]
  },
  {
   "cell_type": "markdown",
   "metadata": {},
   "source": [
    "#### 15. Now we want to label the values in *d*. First create an empty array *f* with the same shape (i.e. 2x3x5) as *d* using `np.empty`.\n"
   ]
  },
  {
   "cell_type": "code",
   "execution_count": 17,
   "metadata": {},
   "outputs": [],
   "source": [
    "# your code here \n",
    "\n",
    "f = np.empty((2,3,5))"
   ]
  },
  {
   "cell_type": "markdown",
   "metadata": {},
   "source": [
    "#### 16. Populate the values in *f*. \n",
    "\n",
    "For each value in *d*, if it's larger than *d_min* but smaller than *d_mean*, assign 25 to the corresponding value in *f*. If a value in *d* is larger than *d_mean* but smaller than *d_max*, assign 75 to the corresponding value in *f*. If a value equals to *d_mean*, assign 50 to the corresponding value in *f*. Assign 0 to the corresponding value(s) in *f* for *d_min* in *d*. Assign 100 to the corresponding value(s) in *f* for *d_max* in *d*. In the end, f should have only the following values: 0, 25, 50, 75, and 100.\n",
    "\n",
    "**Note**: you don't have to use Numpy in this question."
   ]
  },
  {
   "cell_type": "code",
   "execution_count": 18,
   "metadata": {},
   "outputs": [
    {
     "name": "stdout",
     "output_type": "stream",
     "text": [
      "[[[ 50.  25.  25.  25.   0.]\n",
      "  [ 50.  25.  50.  50.  50.]\n",
      "  [ 50.  25.  25.  50.  50.]]\n",
      "\n",
      " [[100.  25.  25.  50.  25.]\n",
      "  [ 25.  50.  50.  50.  25.]\n",
      "  [ 25.  50.  25.  25.  25.]]]\n",
      "[[[ 2.62727878  0.80266282  0.78010176  1.2148454  -0.98269217]\n",
      "  [ 1.91909479  0.65906707  1.79942796  2.31793978  1.39181274]\n",
      "  [ 1.84281467  0.28099728 -0.04387015  1.47552048  1.60084528]]\n",
      "\n",
      " [[ 2.90846514  0.61812956  0.34719357  2.52500038  0.63810596]\n",
      "  [ 0.63728918  1.67864908  1.94419676  1.39634571  1.19013236]\n",
      "  [ 1.03433225  2.25112323 -0.29032194  1.18389364  0.77692315]]]\n",
      "min -0.9826921693535153\n",
      "mean 1.2175101502267305\n",
      "max 2.908465144843891\n"
     ]
    }
   ],
   "source": [
    "# your code here \n",
    "\n",
    "\n",
    "f[d < d_mean] = 25\n",
    "f[d > d_mean] = 50\n",
    "f[d == d_min] = 0\n",
    "f[d == d_mean] = 50\n",
    "f[d == d_max] = 100\n",
    "\n",
    "        \n",
    "print(f)\n",
    "print(d) \n",
    "\n",
    "print(\"min\", d_min)\n",
    "print(\"mean\", d_mean) \n",
    "print(\"max\", d_max) \n",
    "\n",
    "\n",
    "# This was the original try and I don't understand why it doesnt work.... \n",
    "# for group in range(0,2):\n",
    "#     for row in range(0,3):\n",
    "#         for column in range(0,5):\n",
    "#             if d[group, row, column] < d_mean and d[group, row, column] > d_min:\n",
    "#                 assign_value = 25\n",
    "#             elif d[group, row, column] > d_mean and d[group, row, column] < d_max:\n",
    "#                 assing_value = 75\n",
    "#             elif d[group, row, column] == d_mean:\n",
    "#                 assign_value = 50\n",
    "#             elif d[group, row, column] == d_min:\n",
    "#                 assign_value = 0\n",
    "#             else:\n",
    "#                 assign_value = 100 \n",
    "#             f[group, row, column] = assign_value\n",
    "\n"
   ]
  },
  {
   "cell_type": "markdown",
   "metadata": {},
   "source": [
    "#### 17. Print *d* and *f*. Do you have your expected *f*?\n",
    "For instance, if your *d* is:\n",
    "```python\n",
    "[[[1.85836099, 1.67064465, 1.62576044, 1.40243961, 1.88454931],\n",
    "[1.75354326, 1.69403643, 1.36729252, 1.61415071, 1.12104981],\n",
    "[1.72201435, 1.1862918 , 1.87078449, 1.7726778 , 1.88180042]],\n",
    "[[1.44747908, 1.31673383, 1.02000951, 1.52218947, 1.97066381],\n",
    "[1.79129243, 1.74983003, 1.96028037, 1.85166831, 1.65450881],\n",
    "[1.18068344, 1.9587381 , 1.00656599, 1.93402165, 1.73514584]]]\n",
    "```\n",
    "Your *f* should be:\n",
    "```python\n",
    "[[[ 75.,  75.,  75.,  25.,  75.],\n",
    "[ 75.,  75.,  25.,  25.,  25.],\n",
    "[ 75.,  25.,  75.,  75.,  75.]],\n",
    "[[ 25.,  25.,  25.,  25., 100.],\n",
    "[ 75.,  75.,  75.,  75.,  75.],\n",
    "[ 25.,  75.,   0.,  75.,  75.]]]\n",
    "```"
   ]
  },
  {
   "cell_type": "code",
   "execution_count": 19,
   "metadata": {},
   "outputs": [
    {
     "name": "stdout",
     "output_type": "stream",
     "text": [
      "[[[ 2.62727878  0.80266282  0.78010176  1.2148454  -0.98269217]\n",
      "  [ 1.91909479  0.65906707  1.79942796  2.31793978  1.39181274]\n",
      "  [ 1.84281467  0.28099728 -0.04387015  1.47552048  1.60084528]]\n",
      "\n",
      " [[ 2.90846514  0.61812956  0.34719357  2.52500038  0.63810596]\n",
      "  [ 0.63728918  1.67864908  1.94419676  1.39634571  1.19013236]\n",
      "  [ 1.03433225  2.25112323 -0.29032194  1.18389364  0.77692315]]]\n",
      "[[[ 50.  25.  25.  25.   0.]\n",
      "  [ 50.  25.  50.  50.  50.]\n",
      "  [ 50.  25.  25.  50.  50.]]\n",
      "\n",
      " [[100.  25.  25.  50.  25.]\n",
      "  [ 25.  50.  50.  50.  25.]\n",
      "  [ 25.  50.  25.  25.  25.]]]\n"
     ]
    }
   ],
   "source": [
    "# your code here \n",
    "print(d)\n",
    "print(f)"
   ]
  },
  {
   "cell_type": "markdown",
   "metadata": {},
   "source": [
    "#### 18. Bonus question: instead of using numbers (i.e. 0, 25, 50, 75, and 100), use string values  (\"A\", \"B\", \"C\", \"D\", and \"E\") to label the array elements. For the example above, the expected result is:\n",
    "\n",
    "```python\n",
    "[[[ 'D',  'D',  'D',  'B',  'D'],\n",
    "[ 'D',  'D',  'B',  'B',  'B'],\n",
    "[ 'D',  'B',  'D',  'D',  'D']],\n",
    "[[ 'B',  'B',  'B',  'B',  'E'],\n",
    "[ 'D',  'D',  'D',  'D',  'D'],\n",
    "[ 'B',  'D',   'A',  'D', 'D']]]\n",
    "```\n",
    "**Note**: you don't have to use Numpy in this question."
   ]
  },
  {
   "cell_type": "code",
   "execution_count": 20,
   "metadata": {},
   "outputs": [
    {
     "name": "stdout",
     "output_type": "stream",
     "text": [
      "[[['D' 'B' 'B' 'B' 'A']\n",
      "  ['D' 'B' 'D' 'D' 'D']\n",
      "  ['D' 'B' 'B' 'D' 'D']]\n",
      "\n",
      " [['E' 'B' 'B' 'D' 'B']\n",
      "  ['B' 'D' 'D' 'D' 'B']\n",
      "  ['B' 'D' 'B' 'B' 'B']]]\n"
     ]
    }
   ],
   "source": [
    "# your code here  \n",
    "\n",
    "f = np.empty((2,3,5), dtype=str)\n",
    "             \n",
    "             \n",
    "f[d < d_mean] = \"B\"\n",
    "f[d > d_mean] = \"D\"\n",
    "f[d == d_min] = \"A\"\n",
    "f[d == d_mean] = \"C\"\n",
    "f[d == d_max] = \"E\" \n",
    "\n",
    "print(f)"
   ]
  },
  {
   "cell_type": "code",
   "execution_count": null,
   "metadata": {},
   "outputs": [],
   "source": []
  },
  {
   "cell_type": "code",
   "execution_count": null,
   "metadata": {},
   "outputs": [],
   "source": []
  }
 ],
 "metadata": {
  "kernelspec": {
   "display_name": "Python 3",
   "language": "python",
   "name": "python3"
  },
  "language_info": {
   "codemirror_mode": {
    "name": "ipython",
    "version": 3
   },
   "file_extension": ".py",
   "mimetype": "text/x-python",
   "name": "python",
   "nbconvert_exporter": "python",
   "pygments_lexer": "ipython3",
   "version": "3.7.6"
  }
 },
 "nbformat": 4,
 "nbformat_minor": 2
}
