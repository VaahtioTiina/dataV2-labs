{
 "cells": [
  {
   "cell_type": "code",
   "execution_count": null,
   "metadata": {},
   "outputs": [],
   "source": [
    "\"\"\"\n",
    "This is a dumb calculator that can add and subtract whole numbers from zero to five.\n",
    "When you run the code, you are prompted to enter two numbers (in the form of English\n",
    "word instead of number) and the operator sign (also in the form of English word).\n",
    "The code will perform the calculation and give the result if your input is what it\n",
    "expects.\n",
    "\n",
    "The code is very long and messy. Refactor it according to what you have learned about\n",
    "code simplicity and efficiency.\n",
    "\"\"\"\n",
    "\n",
    "print('Welcome to this calculator!')\n",
    "print('It can add and subtract whole numbers from zero to five')\n",
    "a = input('Please choose your first number (zero to five): ')\n",
    "b = input('What do you want to do? plus or minus: ')\n",
    "c = input('Please choose your second number (zero to five): ')\n",
    "\n",
    "allowed_nr = {\"zero\":0, \"one\":1, \"two\":2, \"three\":3, \"four\":4, \"five\":5}\n",
    "allowed_act = [\"plus\", \"minus\"]\n",
    "allowed_results = {0:\"zero\", 1:\"one\", 2:\"two\", 3:\"three\", 4:\"four\", 5:\"five\", 6:\"six\", 7:\"seven\", 8:\"eight\", 9:\"nine\", 10:\"ten\"} # {-5:\"negative five\",-4:\"negative four\", -3:\"negative 3\", -2:\"negative:2\", -1:\"negative one\" }\n",
    "\n",
    "if a in list(allowed_nr.keys()) and c in list(allowed_nr.keys()) and b in allowed_act:\n",
    "    nr1 = allowed_nr[a]\n",
    "    nr2 = allowed_nr[c]   \n",
    "    if b == allowed_act[0]:\n",
    "        result_word = allowed_results[nr1 + nr2]\n",
    "        print(\"%s %s %s equals %s\" %(a, b, c, result_word))\n",
    "    else:\n",
    "        # TIINA: According to instructions the calculator should also handle the negative numbers. At this point if the end result is a negative number your code breaks. \n",
    "        # TIINA: As your allowed_results dictionary does not have values for negative keys. Either you could add them there. Works fine for this but if there were mode combinations...\n",
    "        # TIINA: I solved it by using a convertor module num2words which also counts for negative values\n",
    "        \n",
    "        \n",
    "        result_word = allowed_results[nr1 - nr2]\n",
    "        print(\"%s %s %s equals %s\" %(a, b, c, result_word))\n",
    "else:\n",
    "    print(\"I am not able to answer this question. Check your input.\")\n",
    "\n",
    "print(\"Thanks for using this calculator, goodbye :)\") \n",
    "\n",
    "\n",
    "# TIINA: Overall well done\n",
    "# Easy to read and understand what you are doing\n",
    "# correctly used namings \n",
    "# Solution worked well(just a small thing with the negative outcomes)\n",
    "# It would have been possible to define a more user frienndly calculator with a help of functions and while loops. \n",
    "# This way the the calculator does not stop running when given incorrect input but it actually requests to select again. \n"
   ]
  }
 ],
 "metadata": {
  "kernelspec": {
   "display_name": "Python 3",
   "language": "python",
   "name": "python3"
  },
  "language_info": {
   "codemirror_mode": {
    "name": "ipython",
    "version": 3
   },
   "file_extension": ".py",
   "mimetype": "text/x-python",
   "name": "python",
   "nbconvert_exporter": "python",
   "pygments_lexer": "ipython3",
   "version": "3.7.6"
  }
 },
 "nbformat": 4,
 "nbformat_minor": 4
}
