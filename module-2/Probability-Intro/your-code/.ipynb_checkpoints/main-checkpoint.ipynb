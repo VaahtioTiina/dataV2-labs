{
 "cells": [
  {
   "cell_type": "markdown",
   "metadata": {},
   "source": [
    "# Introduction To Probability\n",
    "## Challenge 1\n",
    "\n",
    "A and B are events of a probability space with $(\\omega, \\sigma, P)$ such that $P(A) = 0.3$, $P(B) = 0.6$ and $P(A \\cap B) = 0.1$\n",
    "\n",
    "Which of the following statements are false?\n",
    "* $P(A \\cup B) = 0.6$\n",
    "* $P(A \\cap B^{C}) = 0.2$\n",
    "* $P(A \\cap (B \\cup B^{C})) = 0.4$\n",
    "* $P(A^{C} \\cap B^{C}) = 0.3$\n",
    "* $P((A \\cap B)^{C}) = 0.9$"
   ]
  },
  {
   "cell_type": "code",
   "execution_count": 14,
   "metadata": {},
   "outputs": [
    {
     "name": "stdout",
     "output_type": "stream",
     "text": [
      "𝑃(𝐴∪𝐵)=0.6 is  False\n",
      "𝑃(𝐴∩𝐵𝐶)=0.2 False\n",
      "𝑃(𝐴∩(𝐵∪𝐵𝐶))=0.4 False\n",
      "𝑃(𝐴𝐶∩𝐵𝐶)=0.3 False\n",
      "𝑃((𝐴∩𝐵)𝐶)=0.9 True\n"
     ]
    }
   ],
   "source": [
    "p_A = 0.3 \n",
    "p_B = 0.6 \n",
    "p_AiB = 0.1\n",
    "\n",
    "# P(A U B) = 0.6\n",
    "print(\"𝑃(𝐴∪𝐵)=0.6 is \", (p_A + p_B) - (p_A * p_B) == 0.6) \n",
    "\n",
    "# 𝑃(𝐴∩𝐵𝐶)=0.2 \n",
    "print(\"𝑃(𝐴∩𝐵𝐶)=0.2\", p_A*(1-p_B) == 0.2)\n",
    "\n",
    "# 𝑃(𝐴∩(𝐵∪𝐵𝐶))=0.4 \n",
    "print(\"𝑃(𝐴∩(𝐵∪𝐵𝐶))=0.4\", (p_A * (1) == 0.4))\n",
    "\n",
    "#𝑃(𝐴𝐶∩𝐵𝐶)=0.3 \n",
    "print(\"𝑃(𝐴𝐶∩𝐵𝐶)=0.3\", ((1-p_A)* (1-p_B) == 0.3))\n",
    "\n",
    "#𝑃((𝐴∩𝐵)𝐶)=0.9 \n",
    "print(\"𝑃((𝐴∩𝐵)𝐶)=0.9\", (1-p_AiB) == 0.9)\n"
   ]
  },
  {
   "cell_type": "markdown",
   "metadata": {},
   "source": [
    "## Challenge 2\n",
    "There is a box with 10 white balls, 12 red balls and 8 black balls. Calculate the probability of:\n",
    "* Taking a white ball out.\n",
    "* Taking a white ball out after taking a black ball out.\n",
    "* Taking a red ball out after taking a black and a red ball out.\n",
    "* Taking a red ball out after taking a black and a red ball out with reposition.\n",
    "\n",
    "**Hint**: Reposition means putting back the ball into the box after taking it out."
   ]
  },
  {
   "cell_type": "code",
   "execution_count": 32,
   "metadata": {},
   "outputs": [
    {
     "name": "stdout",
     "output_type": "stream",
     "text": [
      "The probability of white ball is  0.33\n",
      "The probability of a white after a black repositioning is the same as before 0.33\n",
      "The probability of red ball after taking black and red with repositiong is 0.4\n",
      "Taking a red ball out after taking a black and a red ball out with reposition is  0.39\n"
     ]
    }
   ],
   "source": [
    "\"\"\"\n",
    "your solution here\n",
    "\"\"\"\n",
    "w = 10\n",
    "r = 12\n",
    "b = 8 \n",
    "t = 30\n",
    "\n",
    "# Probability of white ball \n",
    "p_w = w/t\n",
    "print(\"The probability of white ball is \", round(p_w, 2))\n",
    "\n",
    "# White ball out after taking a black out AFTER reposition\n",
    "print(\"The probability of a white after a black repositioning is the same as before\", round(p_w, 2)) \n",
    "\n",
    "# Taking a red ball out after taking a black and a red ball out.  I assume repositiong \n",
    "print(\"The probability of red ball after taking black and red with repositiong is\", round(r/t, 2)) \n",
    "\n",
    "# Taking a red ball out after taking a black and a red ball out with reposition \n",
    "\n",
    "p_r =  (r-1)/(t-2) \n",
    "print(\"Taking a red ball out after taking a black and a red ball out with reposition is \", round(p_r, 2))\n",
    "\n",
    "\n",
    "\n"
   ]
  },
  {
   "cell_type": "markdown",
   "metadata": {},
   "source": [
    "## Challenge 3\n",
    "\n",
    "You are planning to go on a picnic today but the morning is cloudy. You hate rain so you don't know whether to go out or stay home! To help you make a decision, you gather the following data about rainy days:\n",
    "\n",
    "* 50% of all rainy days start off cloudy!\n",
    "* Cloudy mornings are common. About 40% of days start cloudy. \n",
    "* This month is usually dry so only 3 of 30 days (10%) tend to be rainy. \n",
    "\n",
    "What is the chance of rain during the day?"
   ]
  },
  {
   "cell_type": "code",
   "execution_count": 77,
   "metadata": {},
   "outputs": [
    {
     "name": "stdout",
     "output_type": "stream",
     "text": [
      "The probability is  0.05000000000000001\n"
     ]
    }
   ],
   "source": [
    "\"\"\"\n",
    "P(rain during the day  this mont | morning is cloudy) =  p( rain during the day AND morning is cloudy) / p(morning is cloudy)\n",
    "(0.1 * 0.5) * 0.4 / 0.4\n",
    "\n",
    "\"\"\"\n",
    "\n",
    "cloudy = 0.4\n",
    "rain = 0.1 \n",
    "rain_cloudy = 0.5   \n",
    "\n",
    "p_rain_today = ((rain *rain_cloudy) * cloudy) / cloudy\n",
    "print(\"The probability is \", p_rain_today)\n"
   ]
  },
  {
   "cell_type": "markdown",
   "metadata": {},
   "source": [
    "## Challenge 4\n",
    "\n",
    "One thousand people were asked through a telephone survey whether they thought more street lighting is needed at night or not.\n",
    "\n",
    "Out of the 480 men that answered the survey, 324 said yes and 156 said no. On the other hand, out of the 520 women that answered, 351 said yes and 169 said no. \n",
    "\n",
    "We wonder if men and women have a different opinions about the street lighting matter. Is gender relevant or irrelevant to the question?\n",
    "\n",
    "Consider the following events:\n",
    "- The answer is yes, so the person that answered thinks that more street lighting is needed.\n",
    "- The person who answered is a man.\n",
    "\n",
    "We want to know if these events are independent, that is, if the fact of wanting more light depends on whether one is male or female. Are these events independent or not?\n",
    "\n",
    "**Hint**: To clearly compare the answers by gender, it is best to place the data in a table."
   ]
  },
  {
   "cell_type": "code",
   "execution_count": 72,
   "metadata": {},
   "outputs": [
    {
     "name": "stdout",
     "output_type": "stream",
     "text": [
      "0.675\n",
      "0.675\n"
     ]
    }
   ],
   "source": [
    "# your code here\n",
    "\n",
    "women_t = 520 \n",
    "women_y = 351\n",
    "man_t = 480\n",
    "man_y = 324\n",
    "total_responses = women_t + man_t\n",
    "p_man = man_t/total_responses\n",
    "p_woman = women_t/total_responses\n",
    "p_yes = (women_y + man_y)/total_responses\n",
    "\n",
    "# EventL Answer is yes and person who answered is a man  \n",
    "\n",
    "\"\"\"\n",
    "P(Answer is YES | it's a man)  = P(answer is yes) * p(man) /  p(man)\n",
    "\n",
    "\"\"\" \n",
    "\n",
    "p_man_yes = (p_yes * p_man)/(p_man)\n",
    "print(p_man_yes) \n",
    "\n",
    "p_woman_yes = (p_yes * p_woman)/(p_woman)\n",
    "print(p_woman_yes) \n"
   ]
  },
  {
   "cell_type": "code",
   "execution_count": 73,
   "metadata": {},
   "outputs": [
    {
     "name": "stdout",
     "output_type": "stream",
     "text": [
      "The events are independent is  True\n"
     ]
    }
   ],
   "source": [
    "\"\"\"\n",
    "Independence is defined the following \n",
    "\n",
    "P(A | B) = P(A) AND  P(B|A) = P(B)\n",
    "\n",
    "\"\"\" \n",
    "\n",
    "print(\"The events are independent is \", p_man_yes == p_yes and p_women_yes == p_yes)"
   ]
  },
  {
   "cell_type": "code",
   "execution_count": 67,
   "metadata": {},
   "outputs": [],
   "source": [
    "import pandas as pd\n",
    "columns = ['street light pref','m_yes', 'f_count', 'total']\n",
    "row = [['Y', 324, 351,  675], ['N', 156, 169, 325]]"
   ]
  },
  {
   "cell_type": "code",
   "execution_count": 68,
   "metadata": {},
   "outputs": [
    {
     "data": {
      "text/html": [
       "<div>\n",
       "<style scoped>\n",
       "    .dataframe tbody tr th:only-of-type {\n",
       "        vertical-align: middle;\n",
       "    }\n",
       "\n",
       "    .dataframe tbody tr th {\n",
       "        vertical-align: top;\n",
       "    }\n",
       "\n",
       "    .dataframe thead th {\n",
       "        text-align: right;\n",
       "    }\n",
       "</style>\n",
       "<table border=\"1\" class=\"dataframe\">\n",
       "  <thead>\n",
       "    <tr style=\"text-align: right;\">\n",
       "      <th></th>\n",
       "      <th>street light pref</th>\n",
       "      <th>m_yes</th>\n",
       "      <th>f_count</th>\n",
       "      <th>total</th>\n",
       "    </tr>\n",
       "  </thead>\n",
       "  <tbody>\n",
       "    <tr>\n",
       "      <th>0</th>\n",
       "      <td>Y</td>\n",
       "      <td>324</td>\n",
       "      <td>351</td>\n",
       "      <td>675</td>\n",
       "    </tr>\n",
       "    <tr>\n",
       "      <th>1</th>\n",
       "      <td>N</td>\n",
       "      <td>156</td>\n",
       "      <td>169</td>\n",
       "      <td>325</td>\n",
       "    </tr>\n",
       "  </tbody>\n",
       "</table>\n",
       "</div>"
      ],
      "text/plain": [
       "  street light pref  m_yes  f_count  total\n",
       "0                 Y    324      351    675\n",
       "1                 N    156      169    325"
      ]
     },
     "execution_count": 68,
     "metadata": {},
     "output_type": "execute_result"
    }
   ],
   "source": [
    "table = pd.DataFrame(row)\n",
    "table.columns = columns\n",
    "table.head()"
   ]
  },
  {
   "cell_type": "code",
   "execution_count": null,
   "metadata": {},
   "outputs": [],
   "source": []
  },
  {
   "cell_type": "code",
   "execution_count": null,
   "metadata": {},
   "outputs": [],
   "source": []
  }
 ],
 "metadata": {
  "kernelspec": {
   "display_name": "Python 3",
   "language": "python",
   "name": "python3"
  },
  "language_info": {
   "codemirror_mode": {
    "name": "ipython",
    "version": 3
   },
   "file_extension": ".py",
   "mimetype": "text/x-python",
   "name": "python",
   "nbconvert_exporter": "python",
   "pygments_lexer": "ipython3",
   "version": "3.7.6"
  }
 },
 "nbformat": 4,
 "nbformat_minor": 2
}
